{
 "cells": [
  {
   "cell_type": "markdown",
   "metadata": {},
   "source": [
    "## En este borrador usted encontrará todos los caminos tomados y sus respectivas paredes (contra las que me he chocado)\n",
    "Explico qué quise hacer y qué salió mal.\n",
    "\n",
    "También fue mi borrador para todas las cosas sucias que tuve que hacer antes de tener un código prolijo.\n",
    "\n",
    "El objetivo era construir un mapa que posicione los hogares estratificados de acuerdo con 3 teorías diferentes.\n",
    "\n",
    "Buen viaje."
   ]
  },
  {
   "cell_type": "code",
   "execution_count": null,
   "metadata": {},
   "outputs": [],
   "source": [
    "#Abrimos el archivo directamente como un dataframe\n",
    "import pandas as pd\n",
    "mapa=pd.read_csv(\"C:/Users/Usuario/Desktop/tesina/bases_excels/basemapas.csv\", encoding = \"ISO-8859-1\", sep=\";\")"
   ]
  },
  {
   "cell_type": "code",
   "execution_count": null,
   "metadata": {},
   "outputs": [],
   "source": [
    "#importé esta biblioteca porque sabía que la necesitaba para sacar las coordenadas\n",
    "import geocoder"
   ]
  },
  {
   "cell_type": "code",
   "execution_count": null,
   "metadata": {},
   "outputs": [],
   "source": [
    "#a esto lo hice porque el geocoder te identifica el lugar cuando pones así la dirección \"Dirección, ciudad, departamento\"\n",
    "address=mapa[\"a1_1a_calle\"]+\", \"+mapa[\"CIUDAD\"]+\", \"+mapa[\"Departamento\"]"
   ]
  },
  {
   "cell_type": "code",
   "execution_count": null,
   "metadata": {},
   "outputs": [],
   "source": [
    "#acá probé con una dirección a ver si funcionaba\n",
    "g=geocoder.osm(adress[3:4])\n",
    "g.latlng"
   ]
  },
  {
   "cell_type": "code",
   "execution_count": null,
   "metadata": {},
   "outputs": [],
   "source": [
    "#entonces hice un for para generar un diccionario con las coordenadas que no me convencía mucho pero me habían dicho que \n",
    "#haga un diccionario\n",
    "latitudlongitud={}\n",
    "i=0\n",
    "for direccion in adress:\n",
    "    g=geocoder.osm(direccion)\n",
    "    latitudlongitud[i]=g.latlng\n",
    "    i=i+1"
   ]
  },
  {
   "cell_type": "code",
   "execution_count": null,
   "metadata": {},
   "outputs": [],
   "source": [
    "#imprimí a ver que salía y vi que habia dircciones que no había encontrado\n",
    "latitudlongitud"
   ]
  },
  {
   "cell_type": "code",
   "execution_count": null,
   "metadata": {},
   "outputs": [],
   "source": [
    "#me fijé si estaban mal escritas o algo \n",
    "adress[0:10]"
   ]
  },
  {
   "cell_type": "code",
   "execution_count": null,
   "metadata": {},
   "outputs": [],
   "source": [
    "#probé con el de google maps no open pero no me dio permiso. RESQUEST-DENIED\n",
    "g=geocoder.google(\"Antonia Godoy 6568, santa fe, la capital\")"
   ]
  },
  {
   "cell_type": "code",
   "execution_count": null,
   "metadata": {},
   "outputs": [],
   "source": [
    "#traté de hacer un for para que me muestre las posiciones que estaban vacías pero no me salía\n",
    "for p,dato in enumerate(latitudlongitud):\n",
    "    if dato==\"None\":\n",
    "        print (p)"
   ]
  },
  {
   "cell_type": "code",
   "execution_count": null,
   "metadata": {},
   "outputs": [],
   "source": [
    "#este tampoco salió\n",
    "for p,dato in enumerate(latitudlongitud):\n",
    "    if latitudlongitud==\"None\":\n",
    "        print (p)\n",
    "    else:\n",
    "        print (\"nada\")"
   ]
  },
  {
   "cell_type": "code",
   "execution_count": null,
   "metadata": {},
   "outputs": [],
   "source": [
    "#quise agregar columna al data frame con las coordenadas para por lo menos guardar las que tenía\n",
    "#pero hice cualquier cosa, así no se hace\n",
    "mapa[\"coordenadas\"]=latitudlongitud"
   ]
  },
  {
   "cell_type": "code",
   "execution_count": null,
   "metadata": {},
   "outputs": [],
   "source": [
    "#arranqué de nuevo, esta vez con algo mucho más sensato: una lista\n",
    "latitudlongitud=[]\n",
    "for direccion in address:\n",
    "    g=geocoder.osm(direccion)\n",
    "    latitudlongitud.append(g.latlng)"
   ]
  },
  {
   "cell_type": "code",
   "execution_count": null,
   "metadata": {},
   "outputs": [],
   "source": [
    "#que por ser lista no dejaba de estar incompleta\n",
    "latitudlongitud"
   ]
  },
  {
   "cell_type": "code",
   "execution_count": null,
   "metadata": {},
   "outputs": [],
   "source": [
    "#así iba viendo la direccion y la buscaba en maps y cargaba yo manualmente las coordenadas\n",
    "address[145]"
   ]
  },
  {
   "cell_type": "code",
   "execution_count": null,
   "metadata": {},
   "outputs": [],
   "source": [
    "#cargué todo esto a mano\n",
    "latitudlongitud[170]=[-31.4314627, -60.6681495]\n",
    "latitudlongitud[173]=[-31.6654301,-60.7291387]\n",
    "latitudlongitud[175]=[-31.6619269,-60.7297185]\n",
    "latitudlongitud[177]=[-31.6642555,-60.7291499]\n",
    "latitudlongitud[179]=[-31.6689917,-60.7301491]\n",
    "latitudlongitud[5]=[-31.6120935,-60.6765293]\n",
    "latitudlongitud[6]=[-31.6106282,-60.6804276]\n",
    "latitudlongitud[11]=[-31.5742049,-60.7123638]\n",
    "latitudlongitud[15]=[-34.6916899, -58.4631874]\n",
    "latitudlongitud[37]=[-31.6513881,-60.7405334]\n",
    "latitudlongitud[46]=[-31.6435443,-60.7203436]\n",
    "latitudlongitud[60]=[-31.600694, -60.721639]\n",
    "latitudlongitud[66]=[-31.5706987,-60.7137037]\n",
    "latitudlongitud[67]=[-31.570927, -60.710453]\n",
    "latitudlongitud[68]=[-31.5709224,-60.7126417]\n",
    "latitudlongitud[78]=[-31.6412439,-60.6339878]\n",
    "latitudlongitud[83]=[-31.6126458,-60.6989125]\n",
    "latitudlongitud[84]=[-31.6162623,-60.6811151]\n",
    "latitudlongitud[99]=[-31.6479971, -60.7069648]\n",
    "latitudlongitud[108]=[-31.613613,-60.6897108]\n",
    "latitudlongitud[109]=[-31.6135436,-60.6901526]\n",
    "latitudlongitud[118]=[-31.6136201,-60.6805875]\n",
    "latitudlongitud[119]=[-31.6257735,-60.6838659]\n",
    "latitudlongitud[123]=[-31.6147722,-60.6775396]\n",
    "latitudlongitud[125]=[-31.6368088,-60.7221417]\n",
    "latitudlongitud[128]=[-31.6431751,-60.7312066]\n",
    "latitudlongitud[140]=[-31.6109522,-60.6943846]\n",
    "latitudlongitud[144]=[-31.6130821,-60.6787369]\n",
    "latitudlongitud[158]=[-31.6042258,-60.6733237]\n",
    "latitudlongitud[160]=[-31.6044843,-60.6733423]"
   ]
  },
  {
   "cell_type": "code",
   "execution_count": null,
   "metadata": {},
   "outputs": [],
   "source": [
    "#me cansé e iteré a ver cuantos me vacíos tenía\n",
    "vacio=0\n",
    "for p,dato in enumerate(latitudlongitud):\n",
    "    if dato is None:\n",
    "        vacio=vacio+1"
   ]
  },
  {
   "cell_type": "code",
   "execution_count": null,
   "metadata": {},
   "outputs": [],
   "source": [
    "##me faltaban 171 (un montonazo) así que empecé a buscar alternativas\n",
    "vacio"
   ]
  },
  {
   "cell_type": "code",
   "execution_count": null,
   "metadata": {},
   "outputs": [],
   "source": [
    "#probé con este buscador que funcionaba bastante bien\n",
    "g = geocoder.arcgis(\"Ángel Casanello 880, Santa Fe, Argentina\")\n",
    "g.json\n",
    "for result in g:\n",
    "    print (result.latlng)"
   ]
  },
  {
   "cell_type": "code",
   "execution_count": null,
   "metadata": {},
   "outputs": [],
   "source": [
    "#vi si podia visualizar las direcciones de los none\n",
    "for p,dato in enumerate(latitudlongitud):\n",
    "    if dato is None:\n",
    "        print (adress[p])"
   ]
  },
  {
   "cell_type": "code",
   "execution_count": null,
   "metadata": {},
   "outputs": [],
   "source": [
    "#aca quiseiterar los none y que me los complete con otro buscador, pero los none no son iterables\n",
    "vacio=0\n",
    "for p,dato in enumerate(latitudlongitud):\n",
    "    if dato is None:\n",
    "        print (p)\n",
    "        vacio=vacio+1\n",
    "        for direccion in dato:\n",
    "            g=geocoder.arcgis\n",
    "            g.json\n",
    "            for result in g:\n",
    "                print(result.latlng)"
   ]
  },
  {
   "cell_type": "code",
   "execution_count": null,
   "metadata": {},
   "outputs": [],
   "source": [
    "#hice un for que no me funciono\n",
    "for p,dato in enumerate(latitudlongitud):\n",
    "    if dato is None:\n",
    "         for direccion in adress:\n",
    "            g=geocoder.arcgis(adress[p])\n",
    "            g.json\n",
    "                for result in g:\n",
    "                    print(result.latlng)"
   ]
  },
  {
   "cell_type": "code",
   "execution_count": null,
   "metadata": {},
   "outputs": [],
   "source": [
    "#este for si funcionaba\n",
    "for p,dato in enumerate(latitudlongitud):\n",
    "    if dato is None:\n",
    "            g=geocoder.arcgis(adress[p])\n",
    "            for result in g:\n",
    "                print(result.latlng)"
   ]
  },
  {
   "cell_type": "code",
   "execution_count": null,
   "metadata": {},
   "outputs": [],
   "source": [
    "#\"ya fue, hago la lista de nuevo con este buscador\". probe si el codigo funcionaba para las primeras 10 \n",
    "latitudlongitud1=[]\n",
    "for direccion in address[0:10]:\n",
    "    g=geocoder.arcgis(direccion)\n",
    "    latitudlongitud1.append(g.latlng)"
   ]
  },
  {
   "cell_type": "code",
   "execution_count": null,
   "metadata": {},
   "outputs": [],
   "source": [
    "#funcionaba\n",
    "latitudlongitud1"
   ]
  },
  {
   "cell_type": "code",
   "execution_count": null,
   "metadata": {},
   "outputs": [],
   "source": [
    "#entonces le mandé a todas las direcciones\n",
    "latitudlongitud1=[]\n",
    "for direccion in address:\n",
    "    g=geocoder.arcgis(direccion)\n",
    "    latitudlongitud1.append(g.latlng)"
   ]
  },
  {
   "cell_type": "code",
   "execution_count": null,
   "metadata": {},
   "outputs": [],
   "source": [
    "#sorpresa: no funcionó para todas las direcciones\n",
    "latitudlongitud1"
   ]
  },
  {
   "cell_type": "code",
   "execution_count": 2,
   "metadata": {},
   "outputs": [],
   "source": [
    "#entonces decidí trabajar con la primera lista, completarla con la segunda y el resto a mano. para eso primero imprimí\n",
    "#las que faltaban\n",
    "for p,dato in enumerate(latitudlongitud):\n",
    "    if dato is None:\n",
    "        print (p)"
   ]
  },
  {
   "cell_type": "code",
   "execution_count": null,
   "metadata": {},
   "outputs": [],
   "source": [
    "#entonces buscaba esa posición none de la lista primaria, con la posición de la lista secundaria a ver si el arcgis sí \n",
    "#la había encontrado\n",
    "latitudlongitud1[849]"
   ]
  },
  {
   "cell_type": "code",
   "execution_count": null,
   "metadata": {},
   "outputs": [],
   "source": [
    "#si el arcgis tampoco había encontrado esa o la había encontrado en Kosovo, buscaba la dirección para buscarla después\n",
    "#a pata en el maps\n",
    "address[828]"
   ]
  },
  {
   "cell_type": "code",
   "execution_count": null,
   "metadata": {},
   "outputs": [],
   "source": [
    "#a veces veía que la dirección simplemente estaba escrita en forma rara, así que la reescribía y buscaba directamente por acá\n",
    "g=geocoder.osm(\"Jose maría pérez 876, santa fe, la capital\")\n",
    "g.latlng"
   ]
  },
  {
   "cell_type": "code",
   "execution_count": null,
   "metadata": {},
   "outputs": [],
   "source": [
    "#así corregí 171 coordenadas (una experiencia muy fea, aprendí que python no hace magia)\n",
    "latitudlongitud[145]=latitudlongitud1[145]\n",
    "latitudlongitud[186]=latitudlongitud1[186]\n",
    "latitudlongitud[191]=latitudlongitud1[191]\n",
    "latitudlongitud[192]=latitudlongitud1[192]\n",
    "latitudlongitud[193]=latitudlongitud1[193]\n",
    "latitudlongitud[145]=latitudlongitud1[145]\n",
    "latitudlongitud[204]=[-31.619031, -60.6767119]\n",
    "latitudlongitud[208]=[-31.6375722,-60.6603732]\n",
    "latitudlongitud[215]=[-31.6375722,-60.6603732]\n",
    "latitudlongitud[216]=[-31.6375722,-60.6603732]\n",
    "latitudlongitud[219]=latitudlongitud1[219]\n",
    "latitudlongitud[220]=latitudlongitud1[220]\n",
    "latitudlongitud[221]=latitudlongitud1[221]\n",
    "latitudlongitud[226]=[-31.6361062,-60.6594183]\n",
    "latitudlongitud[252]=latitudlongitud1[252]\n",
    "latitudlongitud[260]=latitudlongitud1[260]\n",
    "latitudlongitud[263]=latitudlongitud1[263]\n",
    "latitudlongitud[270]=latitudlongitud1[270]\n",
    "latitudlongitud[279]=latitudlongitud1[279]\n",
    "latitudlongitud[291]=latitudlongitud1[291]\n",
    "latitudlongitud[300]=latitudlongitud1[300]\n",
    "latitudlongitud[303]=latitudlongitud1[303]\n",
    "latitudlongitud[309]=latitudlongitud1[309]\n",
    "latitudlongitud[318]=latitudlongitud1[318]\n",
    "latitudlongitud[320]=latitudlongitud1[320]\n",
    "latitudlongitud[323]=latitudlongitud1[323]\n",
    "latitudlongitud[330]=latitudlongitud1[330]\n",
    "latitudlongitud[332]=latitudlongitud1[332]\n",
    "latitudlongitud[334]=latitudlongitud1[334]\n",
    "latitudlongitud[335]=latitudlongitud1[335]\n",
    "latitudlongitud[336]=latitudlongitud1[336]\n",
    "latitudlongitud[337]=latitudlongitud1[337]\n",
    "latitudlongitud[338]=latitudlongitud1[338]\n",
    "latitudlongitud[339]=[-31.6634777673469, -60.7218025959184]\n",
    "latitudlongitud[340]=latitudlongitud1[340]\n",
    "latitudlongitud[341]=latitudlongitud1[341]\n",
    "latitudlongitud[342]=latitudlongitud1[342]\n",
    "latitudlongitud[343]=latitudlongitud1[343]\n",
    "latitudlongitud[345]=latitudlongitud1[345]\n",
    "latitudlongitud[346]=latitudlongitud1[346]\n",
    "latitudlongitud[347]=latitudlongitud1[347]\n",
    "latitudlongitud[348]=latitudlongitud1[348]\n",
    "latitudlongitud[350]=latitudlongitud1[350]\n",
    "latitudlongitud[351]=latitudlongitud1[351]\n",
    "latitudlongitud[352]=latitudlongitud1[352]\n",
    "latitudlongitud[354]=[-31.6632241755102, -60.7215301469388]\n",
    "latitudlongitud[357]=latitudlongitud1[357]\n",
    "latitudlongitud[357]=latitudlongitud1[357]\n",
    "latitudlongitud[369]=latitudlongitud1[369]\n",
    "latitudlongitud[379]=[-31.6392154,-60.7320444]\n",
    "latitudlongitud[380]=[-31.6465752,-60.7406661]\n",
    "latitudlongitud[381]=latitudlongitud1[381]\n",
    "latitudlongitud[382]=latitudlongitud1[382]\n",
    "latitudlongitud[383]=[-31.6376474,-60.626201]\n",
    "latitudlongitud[396]=[-31.5852501,-60.716222]\n",
    "latitudlongitud[402]=[-31.6359722,-60.6119115]\n",
    "latitudlongitud[403]=[-31.6581789,-60.6980741]\n",
    "latitudlongitud[410]=latitudlongitud1[410]\n",
    "latitudlongitud[416]=[-31.6349118,-60.6121194]\n",
    "latitudlongitud[417]=[-31.6565222,-60.6908691]\n",
    "latitudlongitud[418]=[-31.6565222,-60.6908691]\n",
    "latitudlongitud[419]=[-31.6565222,-60.6908691]\n",
    "latitudlongitud[422]=[-31.6565222,-60.6908691]\n",
    "latitudlongitud[426]=latitudlongitud1[426]\n",
    "latitudlongitud[427]=[-31.6565222,-60.6908691]\n",
    "latitudlongitud[428]=[-31.6565222,-60.6908691]\n",
    "latitudlongitud[429]=latitudlongitud1[429]\n",
    "latitudlongitud[430]=latitudlongitud1[430]\n",
    "latitudlongitud[431]=latitudlongitud1[431]\n",
    "latitudlongitud[441]=[-31.5706988,-60.7202697]\n",
    "latitudlongitud[443]=latitudlongitud1[443]\n",
    "latitudlongitud[444]=[-31.6636707,-60.6991616]\n",
    "latitudlongitud[445]=latitudlongitud1[445]\n",
    "latitudlongitud[446]=[-31.6636707,-60.6991616]\n",
    "latitudlongitud[447]=latitudlongitud1[447]\n",
    "latitudlongitud[448]=[-31.6636707,-60.6991616]\n",
    "latitudlongitud[449]=[-31.6636707,-60.6991616]\n",
    "latitudlongitud[450]=latitudlongitud1[450]\n",
    "latitudlongitud[454]=latitudlongitud1[454]\n",
    "latitudlongitud[455]=latitudlongitud1[455]\n",
    "latitudlongitud[462]=latitudlongitud1[462]\n",
    "latitudlongitud[488]=latitudlongitud1[488]\n",
    "latitudlongitud[494]=latitudlongitud1[494]\n",
    "latitudlongitud[500]=latitudlongitud1[500]\n",
    "latitudlongitud[505]=latitudlongitud1[505]\n",
    "latitudlongitud[508]=latitudlongitud1[508]\n",
    "latitudlongitud[511]=[-31.5880553,-60.7097183]\n",
    "latitudlongitud[518]=latitudlongitud1[518]\n",
    "latitudlongitud[520]=latitudlongitud1[520]\n",
    "latitudlongitud[521]=latitudlongitud1[521]\n",
    "latitudlongitud[522]=latitudlongitud1[522]\n",
    "latitudlongitud[523]=latitudlongitud1[523]\n",
    "latitudlongitud[530]=latitudlongitud1[530]\n",
    "latitudlongitud[533]=latitudlongitud1[533]\n",
    "latitudlongitud[534]=latitudlongitud1[534]\n",
    "latitudlongitud[536]=latitudlongitud1[536]\n",
    "latitudlongitud[538]=latitudlongitud1[538]\n",
    "latitudlongitud[569]=latitudlongitud1[569]\n",
    "latitudlongitud[573]=latitudlongitud1[573]\n",
    "latitudlongitud[575]=latitudlongitud1[575]\n",
    "latitudlongitud[576]=latitudlongitud1[576]\n",
    "latitudlongitud[580]=latitudlongitud1[580]\n",
    "latitudlongitud[586]=latitudlongitud1[586]\n",
    "latitudlongitud[587]=latitudlongitud1[587]\n",
    "latitudlongitud[589]=[-31.6173112,-60.6784877]\n",
    "latitudlongitud[590]=latitudlongitud1[590]\n",
    "latitudlongitud[592]=[-31.6171907,-60.6783194]\n",
    "latitudlongitud[595]=latitudlongitud1[595]\n",
    "latitudlongitud[596]=latitudlongitud1[596]\n",
    "latitudlongitud[597]=latitudlongitud1[597]\n",
    "latitudlongitud[601]=latitudlongitud1[601]\n",
    "latitudlongitud[602]=latitudlongitud1[602]\n",
    "latitudlongitud[606]=latitudlongitud1[606]\n",
    "latitudlongitud[608]=latitudlongitud1[608]\n",
    "latitudlongitud[609]=latitudlongitud1[609]\n",
    "latitudlongitud[610]=latitudlongitud1[610]\n",
    "latitudlongitud[611]=latitudlongitud1[611]\n",
    "latitudlongitud[612]=latitudlongitud1[612]\n",
    "latitudlongitud[613]=latitudlongitud1[613]\n",
    "latitudlongitud[621]=latitudlongitud1[621]\n",
    "latitudlongitud[624]=latitudlongitud1[624]\n",
    "latitudlongitud[625]=latitudlongitud1[625]\n",
    "latitudlongitud[632]=latitudlongitud1[632]\n",
    "latitudlongitud[639]=latitudlongitud1[639]\n",
    "latitudlongitud[654]=latitudlongitud1[654]\n",
    "latitudlongitud[647]=latitudlongitud1[647]\n",
    "latitudlongitud[645]=latitudlongitud1[645]\n",
    "latitudlongitud[665]=[-31.6501267,-60.7348169]\n",
    "latitudlongitud[672]=latitudlongitud1[672]\n",
    "latitudlongitud[687]=latitudlongitud1[687]\n",
    "latitudlongitud[691]=latitudlongitud1[691]\n",
    "latitudlongitud[702]=latitudlongitud1[702]\n",
    "latitudlongitud[703]=latitudlongitud1[703]\n",
    "latitudlongitud[734]=[-31.6398815,-60.7351899]\n",
    "latitudlongitud[735]=latitudlongitud1[735]\n",
    "latitudlongitud[748]=[-31.6376983,-60.6601377]\n",
    "latitudlongitud[749]=[-31.6376983,-60.6601377]\n",
    "latitudlongitud[750]=latitudlongitud1[750]\n",
    "latitudlongitud[751]=[-31.6275579,-60.6083739]\n",
    "latitudlongitud[754]=[-31.6365158,-60.6606549]\n",
    "latitudlongitud[755]=[-31.6365158,-60.6606549]\n",
    "latitudlongitud[760]=[-31.638454,-60.6604432]\n",
    "latitudlongitud[764]=[-31.638454,-60.6604432]\n",
    "latitudlongitud[770]=[-31.638454,-60.6604432]\n",
    "latitudlongitud[773]=latitudlongitud1[773]\n",
    "latitudlongitud[774]=[-31.638454,-60.6604432]\n",
    "latitudlongitud[779]=[-31.636821,-60.6608238]\n",
    "latitudlongitud[784]=[-31.636821,-60.6608238]\n",
    "latitudlongitud[785]=latitudlongitud1[785]\n",
    "latitudlongitud[786]=latitudlongitud1[786]\n",
    "latitudlongitud[792]=[-31.6445617,-60.7356297]\n",
    "latitudlongitud[797]=[-31.5926796,-60.722043]\n",
    "latitudlongitud[802]=[-31.5911981,-60.7106509]\n",
    "latitudlongitud[808]=[-31.5912657,-60.7106701]\n",
    "latitudlongitud[814]=latitudlongitud1[814]\n",
    "latitudlongitud[815]=[-31.5910121,-60.710598]\n",
    "latitudlongitud[817]=[-31.5916546,-60.7107807]\n",
    "latitudlongitud[818]=latitudlongitud1[818]\n",
    "latitudlongitud[821]=latitudlongitud1[821]\n",
    "latitudlongitud[823]=latitudlongitud1[823]\n",
    "latitudlongitud[827]=[-31.5926796,-60.722043]\n",
    "latitudlongitud[828]=[-31.5926796,-60.722043]\n",
    "latitudlongitud[829]=latitudlongitud1[829]\n",
    "latitudlongitud[838]=latitudlongitud1[838]\n",
    "latitudlongitud[841]=latitudlongitud1[841]\n",
    "latitudlongitud[847]=latitudlongitud1[847]\n",
    "latitudlongitud[848]=latitudlongitud1[848]\n",
    "latitudlongitud[849]=latitudlongitud1[849]\n",
    "latitudlongitud[62]=[-31.6032558,-60.7026595]\n",
    "latitudlongitud[481]=[-31.614644,-60.7011291]\n",
    "latitudlongitud[15]=[-31.6478886, -60.7263387]\n",
    "latitudlongitud[338]=[-31.6636045632653, -60.7219388204082]\n",
    "latitudlongitud[171]=[-31.6647676,-60.7250801]\n",
    "latitudlongitud[458]=[-31.6147021,-60.7008949]\n",
    "latitudlongitud[197]=[-31.6147021,-60.7008949]\n",
    "latitudlongitud[142]=[-31.642805,-60.7156858]"
   ]
  },
  {
   "cell_type": "code",
   "execution_count": null,
   "metadata": {},
   "outputs": [],
   "source": [
    "#hice un diccionario para guardar las latitudes y longitudes (con ayuda)\n",
    "midic = {\"latitud\":[], \"longitud\":[]}\n",
    "for coord in latitudlongitud:\n",
    "    lat, lon = coord\n",
    "    midic[\"latitud\"].append(lat)\n",
    "    midic[\"longitud\"].append(lon)"
   ]
  },
  {
   "cell_type": "code",
   "execution_count": null,
   "metadata": {},
   "outputs": [],
   "source": [
    "#y guarde esas listas como columnas del data frame (sin ayuda)\n",
    "mapa2[\"latitud\"]=midic[\"latitud\"]\n",
    "mapa2[\"longitud\"]=midic[\"longitud\"]"
   ]
  },
  {
   "cell_type": "code",
   "execution_count": null,
   "metadata": {},
   "outputs": [],
   "source": [
    "#importe el plotly para graficar mi mapa\n",
    "import plotly.express as px"
   ]
  },
  {
   "cell_type": "code",
   "execution_count": null,
   "metadata": {},
   "outputs": [],
   "source": [
    "#grafiqué el mapa y, sorpresa: tenía puntos que se escapaban las fronteras de ciudad de SF\n",
    "figmapa=px.scatter_mapbox(mapa, lat=\"latitud\", lon=\"longitud\", hover_name=\"nro_cuestionario\",\n",
    "                          color_discrete_sequence=[\"orange\"], zoom=12, height=800)\n",
    "figmapa.update_layout(mapbox_style=\"open-street-map\")\n",
    "figmapa.show()"
   ]
  },
  {
   "cell_type": "code",
   "execution_count": null,
   "metadata": {},
   "outputs": [],
   "source": [
    "#hice una columna con las posiciones para poder visualizar las posiciones de los puntitos rebeldes\n",
    "mapa[\"renglon\"]=mapa.index"
   ]
  },
  {
   "cell_type": "code",
   "execution_count": null,
   "metadata": {},
   "outputs": [],
   "source": [
    "#nuevamente el mapa para recorrer más fácil los puntitos\n",
    "figmapa=px.scatter_mapbox(mapa, lat=\"latitud\", lon=\"longitud\", hover_name=\"renglon\",color_discrete_sequence=[\"orange\"],\n",
    "                          zoom=12, height=800)\n",
    "figmapa.update_layout(mapbox_style=\"open-street-map\")\n",
    "figmapa.show()"
   ]
  },
  {
   "cell_type": "code",
   "execution_count": null,
   "metadata": {},
   "outputs": [],
   "source": [
    "#recorría el puntito a ver que posición era y miraba la dirección\n",
    "adress[517]"
   ]
  },
  {
   "cell_type": "code",
   "execution_count": null,
   "metadata": {},
   "outputs": [],
   "source": [
    "#miraba sus latitudes a ver si se iban del eje\n",
    "latitudlongitud[517]"
   ]
  },
  {
   "cell_type": "code",
   "execution_count": null,
   "metadata": {},
   "outputs": [],
   "source": [
    "#las autocompletaba con arcgis\n",
    "g = geocoder.arcgis(adress[517])\n",
    "latitudlongitud[517]=g.latlng"
   ]
  },
  {
   "cell_type": "code",
   "execution_count": null,
   "metadata": {},
   "outputs": [],
   "source": [
    "#el tema era que el problema era el arcgis, porque me tiraba direcciones aledañas. renuncié a toda automatización del proceso\n",
    "#y las volví a corregir a pata copiando las coordenadas del google maps que encima estaban escondidas en la ruta html\n",
    "latitudlongitud[695]=[-31.6459232-60.7195787]\n",
    "latitudlongitud[594]=[-31.6585519,-60.7213497]\n",
    "latitudlongitud[757]=[-31.6439713,-60.7176305]\n",
    "latitudlongitud[232]=[-31.6479976,-60.7351669]\n",
    "latitudlongitud[474]=[-31.6045064,-60.703265]\n",
    "latitudlongitud[681]=[-31.5967439,-60.6835353]\n",
    "latitudlongitud[562]=[-31.6212536,-60.6861155]\n",
    "latitudlongitud[73]=[-31.638722,-60.6867094]\n",
    "latitudlongitud[391]=[-31.6355546,-60.6283306]\n",
    "latitudlongitud[723]=[-31.6355546,-60.6130098]\n",
    "latitudlongitud[273]=[-31.6618941,-60.7231262]\n",
    "latitudlongitud[274]=[-31.6626138,-60.7180254]\n",
    "latitudlongitud[842]=[-31.6512588,-60.7142004]\n",
    "latitudlongitud[709]=[-31.6501504,-60.7326221]\n",
    "latitudlongitud[50]=[-31.6088995,-60.6869791]\n",
    "latitudlongitud[440]=[-31.5841705,-60.7338426]\n",
    "latitudlongitud[644]=[-31.5785317,-60.7189842]\n",
    "latitudlongitud[661]=[-31.6406064,-60.6909851]\n",
    "latitudlongitud[689]=[-31.6500556,-60.7326456]\n",
    "latitudlongitud[658]=[-31.5847596,-60.7369924]\n",
    "latitudlongitud[599]=[-31.6582622,-60.7217569]\n",
    "latitudlongitud[223]=[-31.582657,-60.7343605]\n",
    "latitudlongitud[170]=[-31.6121884,-60.6859076]\n",
    "latitudlongitud[275]=[-31.6618811,-60.7174921]\n",
    "latitudlongitud[61]=[-31.6034162,-60.6961359]\n",
    "latitudlongitud[795]=[-31.5996745,-60.7102046]\n",
    "latitudlongitud[649]=[-31.6512462,-60.7309446]"
   ]
  },
  {
   "cell_type": "code",
   "execution_count": null,
   "metadata": {},
   "outputs": [],
   "source": [
    "#esta fue una buena herramienta que usaba para ver si algún dato se había ido a kosovo\n",
    "for p,lat in enumerate(mapa2[\"latitud\"]):\n",
    "    if not (31.50 < abs(lat) < 32.0):\n",
    "        print(p)\n",
    "for p,lng in enumerate(mapa2[\"longitud\"]):\n",
    "    if not (60 < abs(lng) < 61):\n",
    "        print(p)"
   ]
  },
  {
   "cell_type": "code",
   "execution_count": null,
   "metadata": {},
   "outputs": [],
   "source": []
  },
  {
   "cell_type": "code",
   "execution_count": null,
   "metadata": {},
   "outputs": [],
   "source": [
    "#tuve que repetir esto\n",
    "midic = {\"latitud\":[], \"longitud\":[]}\n",
    "for coord in latitudlongitud:\n",
    "    lat, lon = coord\n",
    "    midic[\"latitud\"].append(lat)\n",
    "    midic[\"longitud\"].append(lon)"
   ]
  },
  {
   "cell_type": "code",
   "execution_count": null,
   "metadata": {},
   "outputs": [],
   "source": [
    "#y esto\n",
    "mapa2[\"latitud\"]=midic[\"latitud\"]\n",
    "mapa2[\"longitud\"]=midic[\"longitud\"]"
   ]
  },
  {
   "cell_type": "markdown",
   "metadata": {},
   "source": [
    "Sin embargo, volví a graficar una y otra vez porque los puntitos se solapaban y cuando pensaba que todo estaba corregido, nuevos puntitos veían la luz. Muchos los terminé corrigiendo en el csv directamente"
   ]
  },
  {
   "cell_type": "code",
   "execution_count": null,
   "metadata": {},
   "outputs": [],
   "source": []
  },
  {
   "cell_type": "code",
   "execution_count": null,
   "metadata": {},
   "outputs": [],
   "source": [
    "#finalmente convertí ese df en un nuevo csv porque imposible ejecutar todo esto de nuevo\n",
    "mapa2.to_csv(\"basemapaactualizada.csv\", header=True, index=False)"
   ]
  },
  {
   "cell_type": "code",
   "execution_count": null,
   "metadata": {},
   "outputs": [],
   "source": [
    "#el problema es que esta sintaxis no me permite mapear todas mis columnas juntas como capas. PROBLEMA IRRESUELTO\n",
    "figmapa=px.scatter_mapbox(mapa2, lat=\"latitud\", lon=\"longitud\", hover_name=\"nro_cuestionario\",\n",
    "                          color=\"WRIGHT\", zoom=12, height=800)\n",
    "figmapa.update_layout(mapbox_style=\"open-street-map\")\n",
    "figmapa.show()"
   ]
  },
  {
   "cell_type": "code",
   "execution_count": null,
   "metadata": {},
   "outputs": [],
   "source": []
  }
 ],
 "metadata": {
  "kernelspec": {
   "display_name": "Python 3",
   "language": "python",
   "name": "python3"
  },
  "language_info": {
   "codemirror_mode": {
    "name": "ipython",
    "version": 3
   },
   "file_extension": ".py",
   "mimetype": "text/x-python",
   "name": "python",
   "nbconvert_exporter": "python",
   "pygments_lexer": "ipython3",
   "version": "3.7.4"
  }
 },
 "nbformat": 4,
 "nbformat_minor": 2
}

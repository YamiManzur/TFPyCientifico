{
 "cells": [
  {
   "cell_type": "markdown",
   "metadata": {},
   "source": [
    "## Mapeo de hogares santafesinos estratificados de acuerdo con las teorías de\n",
    "## Mike Savage, Erik Olin Wright y la Asociación Argentina de Marketing\n",
    "\n",
    "Desigualdad, estratificación, clase y otros conceptos cercanos, se mezclan en las discusiones teóricas e informales, atravesando diversos contextos históricos y nacionales. Pocos temas han sido tan centrales para las ciencias sociales como la conceptualización y el estudio de la desigualdad. Las diversas propuestas para su medición han sido (y son) objeto de calurosos debates que exceden el plano académico. Cómo pensamos la desigualdad abre el debate sobre las formas de pensar el mundo, pero también, de actuar sobre él. Por eso, buena parte de la historia del siglo XX es resultado de formas de entender la desigualdad (condicionadas a su vez por el contexto): la revolución rusa y la formación de la URSS, los movimientos sociales, etc.\n",
    "\n",
    "Las corrientes teóricas sobre la estratificación social y sus variaciones en la medición son tantas, que su revisión obliga a preguntarse si existirán tantas imágenes de la desigualdad de una sociedad específica como teorías y aplicaciones puedan inventariarse. ¿Es posible clasificar individuos en una modernidad tan cambiante y de múltiples pertenencias?, ¿Cómo estructura su desigualdad la sociedad santafesina?\n",
    "\n",
    "De esta manera, con el objetivo general de aproximarnos a la estructura de desigualdad de la Ciudad de Santa Fe, aplicamos tres teorías marcadamente diferentes escogidas para este fin: el modelo neomarxista de Erik Olin Wright, el modelo neo bourdesiano de Mike Savage y el esquema de Nivel Socio Económico de la Asociación Argentina de Marketing. \n",
    "\n",
    "El modelo de Erik Olin Wright continúa la línea marxista clásica de posicionamientos de clase en relación con la posesión de los medios de producción. Pero aggiorna la teoría introduciendo a la autoridad y la experticia como componentes que contribuyen a la formación de posiciones de clase dentro de la mega posición de \"trabajadores\". Mediando de esta manera las relaciones de dominación y explotación propias del sistema capitalista. \n",
    "\n",
    "El modelo de Mike Savage retoma la propuesta clásica bourdesiana donde la cultura comienza a cobrar un rol relevante en la reproducción de la desigualdad (y, por ende, en su formación). En los modelos bourdesianos, el espacio social se estructura a través de la posesión y trayectoria de volúmen y estructura de capitales. La posición en el espacio de individuo genera un esquema de percepción internalizado por el habitus que contribuye a reproducir ese esquema aprendido. \n",
    "\n",
    "El modelo de la Asociación Argentina de Marketing es un esquema gradacional, no relacional, ampliamente usado en argentina para investigaciones de todo tipo (salvo las académicas más puras) porque genera rápida y prácticamente un buen mapa de la estructura de interés. \n",
    "\n",
    "Estas tres propuestas teóricas dieron por separado imágenes diferentes de la estructura de la ciudad, lo cual es de esperar porque sus claves interpretativas son diferentes. Sin embargo, cuando las vemos en conjunto podemos ver que ciertas desigualdades sobreviven la diferencia teórica. \n",
    "\n",
    "El ejercicio de trabajar teorías polares en simultáneo nos permite discutir la teoría al mismo tiempo que se construye una imagen más compleja del fenómeno a estudiar. Revisamos teoría para comprender la empiria y en cada acercamiento a la empiria, trabajamos la teoría. Todo es teoría porque nada es directamente aprensible. Pero no hay esfuerzo teórico que valga la pena sin propósitos empíricos. \n",
    "\n",
    "El __<b>obejtivo de este trabajo__ es mapear nuestros hogares muestra y mostrar su posición en la estructura de clases de acuerdo con cada teoría. De esta manera, podemos explorar las relaciones espaciales de la desigualdad y observar las relaciones entre modelos teóricos. "
   ]
  },
  {
   "cell_type": "code",
   "execution_count": 26,
   "metadata": {},
   "outputs": [],
   "source": [
    "#importamos las bibliotecas que vamos a usar y abrimos el dataframe\n",
    "import pandas as pd\n",
    "import plotly.express as px\n",
    "mapa2=pd.read_csv(\"C:/Users/Usuario/basemapa6.csv\", encoding = \"ISO-8859-1\", sep=\";\")"
   ]
  },
  {
   "cell_type": "code",
   "execution_count": 27,
   "metadata": {},
   "outputs": [],
   "source": [
    "#Convertimos NSE a str para que se grafique en puntos nominales y no en escalas gradacionales\n",
    "mapa2.NSE=mapa2.NSE.astype(str)\n",
    "mapa2.WRIGHT=mapa2.WRIGHT.astype(str)\n",
    "mapa2.CC3=mapa2.CC3.astype(str)\n",
    "mapa2.CC5=mapa2.CC5.astype(str)"
   ]
  },
  {
   "cell_type": "code",
   "execution_count": 29,
   "metadata": {},
   "outputs": [],
   "source": [
    "#Graficamos mapa\n",
    "figmapa=px.scatter_mapbox(mapa2, lat=\"latitud\", lon=\"longitud\", color=\"NSE\", zoom=11, hover_data=[\"CC3\", \"WRIGHT\", \"CC5\"],\n",
    "                          height=800)\n",
    "figmapa.update_layout(mapbox_style=\"open-street-map\")\n",
    "figmapa.update_layout(title_text=\"Hogares estratificados de acuerdo con los esquemas teóricos de Erik Olin Wright, Mike Savage y la AAM\")\n",
    "figmapa.show()"
   ]
  },
  {
   "cell_type": "code",
   "execution_count": 36,
   "metadata": {},
   "outputs": [],
   "source": [
    "#convertimos el mapa a htlm\n",
    "import plotly.io as pio\n",
    "pio.write_html(figmapa, file='mapa_hogares_estratificados.html', auto_open=False)"
   ]
  }
 ],
 "metadata": {
  "kernelspec": {
   "display_name": "Python 3",
   "language": "python",
   "name": "python3"
  },
  "language_info": {
   "codemirror_mode": {
    "name": "ipython",
    "version": 3
   },
   "file_extension": ".py",
   "mimetype": "text/x-python",
   "name": "python",
   "nbconvert_exporter": "python",
   "pygments_lexer": "ipython3",
   "version": "3.7.4"
  }
 },
 "nbformat": 4,
 "nbformat_minor": 2
}
